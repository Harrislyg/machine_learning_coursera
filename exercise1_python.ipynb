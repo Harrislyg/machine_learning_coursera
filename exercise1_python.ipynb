{
 "cells": [
  {
   "cell_type": "code",
   "execution_count": 40,
   "metadata": {
    "collapsed": false
   },
   "outputs": [],
   "source": [
    "import numpy as np\n",
    "import matplotlib.pyplot as plt\n",
    "%matplotlib inline"
   ]
  },
  {
   "cell_type": "code",
   "execution_count": 41,
   "metadata": {
    "collapsed": false
   },
   "outputs": [
    {
     "name": "stdout",
     "output_type": "stream",
     "text": [
      "X1:  [[  6.1101    5.5277    8.5186    7.0032    5.8598    8.3829    7.4764\n",
      "    8.5781    6.4862    5.0546    5.7107   14.164     5.734     8.4084\n",
      "    5.6407    5.3794    6.3654    5.1301    6.4296    7.0708    6.1891\n",
      "   20.27      5.4901    6.3261    5.5649   18.945    12.828    10.957\n",
      "   13.176    22.203     5.2524    6.5894    9.2482    5.8918    8.2111\n",
      "    7.9334    8.0959    5.6063   12.836     6.3534    5.4069    6.8825\n",
      "   11.708     5.7737    7.8247    7.0931    5.0702    5.8014   11.7\n",
      "    5.5416    7.5402    5.3077    7.4239    7.6031    6.3328    6.3589\n",
      "    6.2742    5.6397    9.3102    9.4536    8.8254    5.1793   21.279\n",
      "   14.908    18.959     7.2182    8.2951   10.236     5.4994   20.341\n",
      "   10.136     7.3345    6.0062    7.2259    5.0269    6.5479    7.5386\n",
      "    5.0365   10.274     5.1077    5.7292    5.1884    6.3557    9.7687\n",
      "    6.5159    8.5172    9.1802    6.002     5.5204    5.0594    5.7077\n",
      "    7.6366    5.8707    5.3054    8.2934   13.394     5.4369 ]\n",
      " [ 17.592     9.1302   13.662    11.854     6.8233   11.886     4.3483   12.\n",
      "    6.5987    3.8166    3.2522   15.505     3.1551    7.2258    0.71618\n",
      "    3.5129    5.3048    0.56077   3.6518    5.3893    3.1386   21.767\n",
      "    4.263     5.1875    3.0825   22.638    13.501     7.0467   14.692\n",
      "   24.147    -1.22      5.9966   12.134     1.8495    6.5426    4.5623\n",
      "    4.1164    3.3928   10.117     5.4974    0.55657   3.9115    5.3854\n",
      "    2.4406    6.7318    1.0463    5.1337    1.844     8.0043    1.0179\n",
      "    6.7504    1.8396    4.2885    4.9981    1.4233   -1.4211    2.4756\n",
      "    4.6042    3.9624    5.4141    5.1694   -0.74279  17.929    12.054\n",
      "   17.054     4.8852    5.7442    7.7754    1.0173   20.992     6.6799\n",
      "    4.0259    1.2784    3.3411   -2.6807    0.29678   3.8845    5.7014\n",
      "    6.7526    2.0576    0.47953   0.20421   0.67861   7.5435    5.3436\n",
      "    4.2415    6.7981    0.92695   0.152     2.8214    1.8451    4.2959\n",
      "    7.2029    1.9869    0.14454   9.0551    0.61705]]\n",
      "[[  6.1101]\n",
      " [  5.5277]\n",
      " [  8.5186]\n",
      " [  7.0032]\n",
      " [  5.8598]\n",
      " [  8.3829]\n",
      " [  7.4764]\n",
      " [  8.5781]\n",
      " [  6.4862]\n",
      " [  5.0546]\n",
      " [  5.7107]\n",
      " [ 14.164 ]\n",
      " [  5.734 ]\n",
      " [  8.4084]\n",
      " [  5.6407]\n",
      " [  5.3794]\n",
      " [  6.3654]\n",
      " [  5.1301]\n",
      " [  6.4296]\n",
      " [  7.0708]\n",
      " [  6.1891]\n",
      " [ 20.27  ]\n",
      " [  5.4901]\n",
      " [  6.3261]\n",
      " [  5.5649]\n",
      " [ 18.945 ]\n",
      " [ 12.828 ]\n",
      " [ 10.957 ]\n",
      " [ 13.176 ]\n",
      " [ 22.203 ]\n",
      " [  5.2524]\n",
      " [  6.5894]\n",
      " [  9.2482]\n",
      " [  5.8918]\n",
      " [  8.2111]\n",
      " [  7.9334]\n",
      " [  8.0959]\n",
      " [  5.6063]\n",
      " [ 12.836 ]\n",
      " [  6.3534]\n",
      " [  5.4069]\n",
      " [  6.8825]\n",
      " [ 11.708 ]\n",
      " [  5.7737]\n",
      " [  7.8247]\n",
      " [  7.0931]\n",
      " [  5.0702]\n",
      " [  5.8014]\n",
      " [ 11.7   ]\n",
      " [  5.5416]\n",
      " [  7.5402]\n",
      " [  5.3077]\n",
      " [  7.4239]\n",
      " [  7.6031]\n",
      " [  6.3328]\n",
      " [  6.3589]\n",
      " [  6.2742]\n",
      " [  5.6397]\n",
      " [  9.3102]\n",
      " [  9.4536]\n",
      " [  8.8254]\n",
      " [  5.1793]\n",
      " [ 21.279 ]\n",
      " [ 14.908 ]\n",
      " [ 18.959 ]\n",
      " [  7.2182]\n",
      " [  8.2951]\n",
      " [ 10.236 ]\n",
      " [  5.4994]\n",
      " [ 20.341 ]\n",
      " [ 10.136 ]\n",
      " [  7.3345]\n",
      " [  6.0062]\n",
      " [  7.2259]\n",
      " [  5.0269]\n",
      " [  6.5479]\n",
      " [  7.5386]\n",
      " [  5.0365]\n",
      " [ 10.274 ]\n",
      " [  5.1077]\n",
      " [  5.7292]\n",
      " [  5.1884]\n",
      " [  6.3557]\n",
      " [  9.7687]\n",
      " [  6.5159]\n",
      " [  8.5172]\n",
      " [  9.1802]\n",
      " [  6.002 ]\n",
      " [  5.5204]\n",
      " [  5.0594]\n",
      " [  5.7077]\n",
      " [  7.6366]\n",
      " [  5.8707]\n",
      " [  5.3054]\n",
      " [  8.2934]\n",
      " [ 13.394 ]\n",
      " [  5.4369]]\n"
     ]
    }
   ],
   "source": [
    "datafile = 'ex1data1.txt'\n",
    "cols = np.loadtxt(datafile, delimiter=',', usecols=(0,1), unpack=True)\n",
    "print 'X1: ', cols\n",
    "X = np.transpose(np.array(cols[:-1]))\n",
    "print X\n",
    "y = np.transpose(np.array(cols[-1:]))\n",
    "\n",
    "m = y.size\n",
    "X = np.insert(X, 0, 1, axis=1)"
   ]
  },
  {
   "cell_type": "code",
   "execution_count": 42,
   "metadata": {
    "collapsed": true
   },
   "outputs": [],
   "source": [
    "# print X"
   ]
  },
  {
   "cell_type": "raw",
   "metadata": {},
   "source": []
  },
  {
   "cell_type": "code",
   "execution_count": 43,
   "metadata": {
    "collapsed": false
   },
   "outputs": [
    {
     "name": "stdout",
     "output_type": "stream",
     "text": [
      "[[-3.63606348]\n",
      " [ 1.16698916]]\n"
     ]
    }
   ],
   "source": [
    "print theta"
   ]
  },
  {
   "cell_type": "code",
   "execution_count": 44,
   "metadata": {
    "collapsed": false
   },
   "outputs": [
    {
     "data": {
      "text/plain": [
       "<matplotlib.text.Text at 0x10cb4d110>"
      ]
     },
     "execution_count": 44,
     "metadata": {},
     "output_type": "execute_result"
    },
    {
     "data": {
      "image/png": "[encoded data removed]",
      "text/plain": [
       "<matplotlib.figure.Figure at 0x1100acb10>"
      ]
     },
     "metadata": {},
     "output_type": "display_data"
    }
   ],
   "source": [
    "\n",
    "#Plot the data to see what it looks like\n",
    "plt.figure(figsize=(10,6))\n",
    "plt.plot(X[:,1],y[:,0],'rx',markersize=10)\n",
    "plt.grid(True) #Always plot.grid true!\n",
    "plt.ylabel('Profit in $10,000s')\n",
    "plt.xlabel('Population of City in 10,000s')"
   ]
  },
  {
   "cell_type": "code",
   "execution_count": 45,
   "metadata": {
    "collapsed": true
   },
   "outputs": [],
   "source": [
    "############## Gradient Descent ################"
   ]
  },
  {
   "cell_type": "code",
   "execution_count": 46,
   "metadata": {
    "collapsed": true
   },
   "outputs": [],
   "source": [
    "iterations = 1500\n",
    "alpha = 0.01"
   ]
  },
  {
   "cell_type": "code",
   "execution_count": 47,
   "metadata": {
    "collapsed": false
   },
   "outputs": [
    {
     "name": "stdout",
     "output_type": "stream",
     "text": [
      "(97, 2)\n"
     ]
    }
   ],
   "source": [
    "def h(theta, X):\n",
    "    # print np.dot(X, theta)\n",
    "    return np.dot(X, theta)\n",
    "\n",
    "def compute_cost(theta,X,y):\n",
    "    return float((1./(2*m)) * np.dot((h(theta,X)-y).T,(h(theta,X)-y)))\n",
    "\n",
    "initial_theta = np.zeros((X.shape[1],1))\n",
    "print X.shape"
   ]
  },
  {
   "cell_type": "code",
   "execution_count": 48,
   "metadata": {
    "collapsed": false
   },
   "outputs": [
    {
     "name": "stdout",
     "output_type": "stream",
     "text": [
      "32.0727338775\n",
      "[[ 0.]\n",
      " [ 0.]]\n"
     ]
    }
   ],
   "source": [
    "print compute_cost(initial_theta, X, y)\n",
    "print initial_theta"
   ]
  },
  {
   "cell_type": "code",
   "execution_count": 49,
   "metadata": {
    "collapsed": false
   },
   "outputs": [
    {
     "name": "stdout",
     "output_type": "stream",
     "text": [
      "[[ 0.  0.]\n",
      " [ 0.  0.]]\n"
     ]
    }
   ],
   "source": [
    "print np.zeros([2,2])"
   ]
  },
  {
   "cell_type": "code",
   "execution_count": 50,
   "metadata": {
    "collapsed": false
   },
   "outputs": [],
   "source": [
    "#Actual gradient descent minimizing routine\n",
    "def descendGradient(X, theta_start = np.zeros(2)):\n",
    "    \"\"\"\n",
    "    theta_start is an n- dimensional vector of initial theta guess\n",
    "    X is matrix with n- columns and m- rows\n",
    "    \"\"\"\n",
    "    theta = theta_start\n",
    "    jvec = [] #Used to plot cost as function of iteration\n",
    "    thetahistory = [] #Used to visualize the minimization path later on\n",
    "    for meaninglessvariable in xrange(iterations):\n",
    "        tmptheta = theta\n",
    "        jvec.append(compute_cost(theta,X,y))\n",
    "        # Buggy line\n",
    "        #thetahistory.append(list(tmptheta))\n",
    "        # Fixed line\n",
    "        thetahistory.append(list(theta[:,0]))\n",
    "        #Simultaneously updating theta values\n",
    "        for j in xrange(len(tmptheta)):\n",
    "            tmptheta[j] = theta[j] - (alpha/m)*np.sum((h(initial_theta,X) - y)*np.array(X[:,j]).reshape(m,1))\n",
    "        theta = tmptheta\n",
    "    return theta, thetahistory, jvec"
   ]
  },
  {
   "cell_type": "code",
   "execution_count": 51,
   "metadata": {
    "collapsed": false
   },
   "outputs": [
    {
     "name": "stdout",
     "output_type": "stream",
     "text": [
      "[[-3.63606348]\n",
      " [ 1.16698916]]\n"
     ]
    }
   ],
   "source": [
    "print theta"
   ]
  },
  {
   "cell_type": "code",
   "execution_count": null,
   "metadata": {
    "collapsed": true
   },
   "outputs": [],
   "source": []
  },
  {
   "cell_type": "code",
   "execution_count": null,
   "metadata": {
    "collapsed": true
   },
   "outputs": [],
   "source": []
  },
  {
   "cell_type": "code",
   "execution_count": 52,
   "metadata": {
    "collapsed": false
   },
   "outputs": [
    {
     "name": "stdout",
     "output_type": "stream",
     "text": [
      "[[-3.63606348]\n",
      " [ 1.16698916]]\n"
     ]
    },
    {
     "data": {
      "image/png": "[encoded data removed]",
      "text/plain": [
       "<matplotlib.figure.Figure at 0x110382d10>"
      ]
     },
     "metadata": {},
     "output_type": "display_data"
    }
   ],
   "source": [
    "#Actually run gradient descent to get the best-fit theta values\n",
    "initial_theta = np.zeros((X.shape[1],1))\n",
    "theta, thetahistory, jvec = descendGradient(X,initial_theta)\n",
    "print theta\n",
    "#Plot the convergence of the cost function\n",
    "def plotConvergence(jvec):\n",
    "    plt.figure(figsize=(10,6))\n",
    "    plt.plot(range(len(jvec)),jvec,'bo')\n",
    "    plt.grid(True)\n",
    "    plt.title(\"Convergence of Cost Function\")\n",
    "    plt.xlabel(\"Iteration number\")\n",
    "    plt.ylabel(\"Cost function\")\n",
    "    dummy = plt.xlim([-0.05*iterations,1.05*iterations])\n",
    "    #dummy = plt.ylim([4,8])\n",
    "\n",
    "\n",
    "plotConvergence(jvec)\n",
    "dummy = plt.ylim([4,7])\n"
   ]
  },
  {
   "cell_type": "code",
   "execution_count": 53,
   "metadata": {
    "collapsed": false
   },
   "outputs": [],
   "source": [
    "initial_theta = np.zeros((X.shape[1],1))\n",
    "def GradientDescent(X, y,theta, alpha, num_iters):\n",
    "    for i in range(num_iters):\n",
    "        k = 0\n",
    "        g = 0\n",
    "        h_theta = h(theta, X)\n",
    "        for j in range(m):\n",
    "            k = k + (h_theta[j] - y[j]) * X[j,0]\n",
    "            g = g + (h_theta[j] - y[j]) * X[j,1]\n",
    "        theta[0] = theta[0] - (alpha/m) * k\n",
    "        theta[1] = theta[1] - (alpha/m) * g\n",
    "    \n",
    "    return theta\n"
   ]
  },
  {
   "cell_type": "code",
   "execution_count": 54,
   "metadata": {
    "collapsed": false
   },
   "outputs": [
    {
     "data": {
      "text/plain": [
       "array([[-3.63029144],\n",
       "       [ 1.16636235]])"
      ]
     },
     "execution_count": 54,
     "metadata": {},
     "output_type": "execute_result"
    }
   ],
   "source": [
    "GradientDescent(X, y, initial_theta, 0.01, 1500)"
   ]
  },
  {
   "cell_type": "code",
   "execution_count": 55,
   "metadata": {
    "collapsed": false
   },
   "outputs": [],
   "source": [
    "#### Comment on the logic #####"
   ]
  },
  {
   "cell_type": "code",
   "execution_count": 56,
   "metadata": {
    "collapsed": true
   },
   "outputs": [],
   "source": [
    "#### Linear Regression with multiple variables ####"
   ]
  },
  {
   "cell_type": "code",
   "execution_count": 57,
   "metadata": {
    "collapsed": true
   },
   "outputs": [],
   "source": [
    "datafile = 'ex1data2.txt'\n",
    "cols = np.loadtxt(datafile,delimiter=',',usecols=(0,1,2),unpack=True)\n",
    "X = np.transpose(np.array(cols[:-1]))\n",
    "y = np.transpose(np.array(cols[-1:]))\n",
    "X = np.insert(X,0,1,axis=1)"
   ]
  },
  {
   "cell_type": "code",
   "execution_count": 58,
   "metadata": {
    "collapsed": false
   },
   "outputs": [
    {
     "name": "stdout",
     "output_type": "stream",
     "text": [
      "[1.0]\n",
      "[1.0, 2000.6808510638298]\n",
      "[1.0, 2000.6808510638298, 3.1702127659574466]\n"
     ]
    }
   ],
   "source": [
    "feature_means = []\n",
    "feature_std = []\n",
    "X_norm = X.copy()\n",
    "for i in range(X.shape[1]):\n",
    "    feature_means.append(np.mean(X_norm[:,i]))\n",
    "    print feature_means\n",
    "    feature_std.append(np.std(X_norm[:,i]))\n",
    "    if not i: continue\n",
    "    X_norm[:,i] = (X_norm[:,i] - feature_means[i]) / feature_std[i] "
   ]
  },
  {
   "cell_type": "code",
   "execution_count": 59,
   "metadata": {
    "collapsed": false
   },
   "outputs": [],
   "source": [
    "#### Multivariate Gradient Descent ####"
   ]
  },
  {
   "cell_type": "code",
   "execution_count": 99,
   "metadata": {
    "collapsed": false
   },
   "outputs": [],
   "source": [
    "def h(theta, X):\n",
    "    # print np.dot(X, theta)\n",
    "    return np.dot(X, theta)\n",
    "\n",
    "def compute_cost(theta,X,y,m):\n",
    "    return float((1./(2*m)) * np.dot((h(theta,X)-y).T,(h(theta,X)-y)))"
   ]
  },
  {
   "cell_type": "code",
   "execution_count": 100,
   "metadata": {
    "collapsed": false
   },
   "outputs": [
    {
     "data": {
      "text/plain": [
       "65591548106.45744"
      ]
     },
     "execution_count": 100,
     "metadata": {},
     "output_type": "execute_result"
    }
   ],
   "source": [
    "initial_theta = np.zeros((Xnorm.shape[1], 1))\n",
    "m = y.size\n",
    "compute_cost(initial_theta, X_norm, y, m)"
   ]
  },
  {
   "cell_type": "code",
   "execution_count": 114,
   "metadata": {
    "collapsed": false
   },
   "outputs": [],
   "source": [
    "def gradientDescentMulti(X, y, theta, alpha, num_iters,n):\n",
    "    for i in range(num_iters):\n",
    "        theta_new = theta\n",
    "        for j in range(n):\n",
    "            theta_new[j] = theta[j] - ((alpha / m) * np.sum((h(theta, X)-y) * X[:,j]))\n",
    "        theta = theta_new\n",
    "    return theta"
   ]
  },
  {
   "cell_type": "code",
   "execution_count": 115,
   "metadata": {
    "collapsed": false
   },
   "outputs": [
    {
     "data": {
      "text/plain": [
       "array([[ 340412.65957447],\n",
       "       [ 109371.67272252],\n",
       "       [  -6502.3992545 ]])"
      ]
     },
     "execution_count": 115,
     "metadata": {},
     "output_type": "execute_result"
    }
   ],
   "source": [
    "gradientDescentMulti(X_norm,y, initial_theta, 0.01, 400,3)"
   ]
  },
  {
   "cell_type": "code",
   "execution_count": 116,
   "metadata": {
    "collapsed": true
   },
   "outputs": [],
   "source": [
    "from numpy.linalg import inv\n",
    "def normEqn(X,y):\n",
    "    return np.dot(np.dot(inv(np.dot(X.T,X)), X.T), y)"
   ]
  },
  {
   "cell_type": "code",
   "execution_count": null,
   "metadata": {
    "collapsed": true
   },
   "outputs": [],
   "source": []
  },
  {
   "cell_type": "code",
   "execution_count": null,
   "metadata": {
    "collapsed": true
   },
   "outputs": [],
   "source": []
  },
  {
   "cell_type": "code",
   "execution_count": null,
   "metadata": {
    "collapsed": true
   },
   "outputs": [],
   "source": []
  },
  {
   "cell_type": "code",
   "execution_count": null,
   "metadata": {
    "collapsed": true
   },
   "outputs": [],
   "source": []
  },
  {
   "cell_type": "code",
   "execution_count": null,
   "metadata": {
    "collapsed": true
   },
   "outputs": [],
   "source": []
  },
  {
   "cell_type": "code",
   "execution_count": 112,
   "metadata": {
    "collapsed": false
   },
   "outputs": [
    {
     "name": "stdout",
     "output_type": "stream",
     "text": [
      "65591548106.5\n",
      "[[ 340412.56301439]\n",
      " [ 109371.67272252]\n",
      " [  -6502.3992545 ]]\n"
     ]
    }
   ],
   "source": [
    "def h(theta,X): #Linear hypothesis function\n",
    "    return np.dot(X,theta)\n",
    "\n",
    "def computeCost(mytheta,X,y): #Cost function\n",
    "    \"\"\"\n",
    "    theta_start is an n- dimensional vector of initial theta guess\n",
    "    X is matrix with n- columns and m- rows\n",
    "    y is a matrix with m- rows and 1 column\n",
    "    \"\"\"\n",
    "    #note to self: *.shape is (rows, columns)\n",
    "    return float((1./(2*m)) * np.dot((h(mytheta,X)-y).T,(h(mytheta,X)-y)))\n",
    "\n",
    "#Test that running computeCost with 0's as theta returns 32.07:\n",
    "\n",
    "initial_theta = np.zeros((X.shape[1],1)) #(theta is a vector with n rows and 1 columns (if X has n features) )\n",
    "print computeCost(initial_theta,X,y)\n",
    "\n",
    "#Actual gradient descent minimizing routine\n",
    "def descendGradient(X, theta_start = np.zeros(2)):\n",
    "    \"\"\"\n",
    "    theta_start is an n- dimensional vector of initial theta guess\n",
    "    X is matrix with n- columns and m- rows\n",
    "    \"\"\"\n",
    "    theta = theta_start\n",
    "    jvec = [] #Used to plot cost as function of iteration\n",
    "    thetahistory = [] #Used to visualize the minimization path later on\n",
    "    for meaninglessvariable in xrange(iterations):\n",
    "        tmptheta = theta\n",
    "        jvec.append(computeCost(theta,X,y))\n",
    "        # Buggy line\n",
    "        #thetahistory.append(list(tmptheta))\n",
    "        # Fixed line\n",
    "        thetahistory.append(list(theta[:,0]))\n",
    "        #Simultaneously updating theta values\n",
    "        for j in xrange(len(tmptheta)):\n",
    "            tmptheta[j] = theta[j] - (alpha/m)*np.sum((h(initial_theta,X) - y)*np.array(X[:,j]).reshape(m,1))\n",
    "        theta = tmptheta\n",
    "    return theta, thetahistory, jvec\n",
    "\n",
    "datafile = 'ex1data2.txt'\n",
    "#Read into the data file\n",
    "cols = np.loadtxt(datafile,delimiter=',',usecols=(0,1,2),unpack=True) #Read in comma separated data\n",
    "#Form the usual \"X\" matrix and \"y\" vector\n",
    "X = np.transpose(np.array(cols[:-1]))\n",
    "y = np.transpose(np.array(cols[-1:]))\n",
    "m = y.size # number of training examples\n",
    "#Insert the usual column of 1's into the \"X\" matrix\n",
    "X = np.insert(X,0,1,axis=1)\n",
    "\n",
    "#Feature normalizing the columns (subtract mean, divide by standard deviation)\n",
    "#Store the mean and std for later use\n",
    "#Note don't modify the original X matrix, use a copy\n",
    "stored_feature_means, stored_feature_stds = [], []\n",
    "Xnorm = X.copy()\n",
    "for icol in xrange(Xnorm.shape[1]):\n",
    "    stored_feature_means.append(np.mean(Xnorm[:,icol]))\n",
    "    stored_feature_stds.append(np.std(Xnorm[:,icol]))\n",
    "    #Skip the first column\n",
    "    if not icol: continue\n",
    "    #Faster to not recompute the mean and std again, just used stored values\n",
    "    Xnorm[:,icol] = (Xnorm[:,icol] - stored_feature_means[-1])/stored_feature_stds[-1]\n",
    "\n",
    "#Run gradient descent with multiple variables, initial theta still set to zeros\n",
    "#(Note! This doesn't work unless we feature normalize! \"overflow encountered in multiply\")\n",
    "initial_theta = np.zeros((Xnorm.shape[1],1))\n",
    "theta, thetahistory, jvec = descendGradient(Xnorm,initial_theta)\n",
    "print theta"
   ]
  },
  {
   "cell_type": "code",
   "execution_count": null,
   "metadata": {
    "collapsed": true
   },
   "outputs": [],
   "source": []
  }
 ],
 "metadata": {
  "anaconda-cloud": {},
  "kernelspec": {
   "display_name": "Python [conda root]",
   "language": "python",
   "name": "conda-root-py"
  },
  "language_info": {
   "codemirror_mode": {
    "name": "ipython",
    "version": 2
   },
   "file_extension": ".py",
   "mimetype": "text/x-python",
   "name": "python",
   "nbconvert_exporter": "python",
   "pygments_lexer": "ipython2",
   "version": "2.7.13"
  }
 },
 "nbformat": 4,
 "nbformat_minor": 1
}
